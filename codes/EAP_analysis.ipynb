{
 "cells": [
  {
   "cell_type": "code",
   "execution_count": 18,
   "metadata": {},
   "outputs": [],
   "source": [
    "#\"\"\"\"\"\"\"\"\"\"\"\"\"\"\"\"\"\"\"\"\"\"\"\"\"\"\"\"\"\"\"\"\"\"\"\"\"\"\"\"\"\"\"\"\"\"\"\"\"\"\"\"\"\"\"\"\"\"\"\"\"\"\"\"\"\"\"\"\"\"\"\"\"\"\"\"\n",
    "# Read and Calculated EAP for further analysis\n",
    "# @Yina Wei,March 02,2020\n",
    "#\"\"\"\"\"\"\"\"\"\"\"\"\"\"\"\"\"\"\"\"\"\"\"\"\"\"\"\"\"\"\"\"\"\"\"\"\"\"\"\"\"\"\"\"\"\"\"\"\"\"\"\"\"\"\"\"\"\"\"\"\"\"\"\"\"\"\"\"\"\"\"\"\"\"\"\"\n",
    "import pandas as pd\n",
    "from pandas import Series, DataFrame\n",
    "import numpy as np\n",
    "import matplotlib.pyplot as plt\n",
    "import matplotlib.image as mpimg\n",
    "import matplotlib.animation as animation\n",
    "from matplotlib.collections import LineCollection\n",
    "import math\n",
    "import scipy.io\n",
    "\n",
    "import pickle\n",
    "from mpl_toolkits.mplot3d import Axes3D\n",
    "from scipy.interpolate import spline\n",
    "import os\n",
    "import h5py\n",
    "from scipy import signal\n",
    "import pylab as pl\n",
    "import csv\n",
    "#%matplotlib qt\n",
    "from matplotlib import ticker\n",
    "\n",
    "from scipy.signal import hilbert, chirp\n",
    "import allensdk.core.swc as swc\n",
    "from allensdk.core.cell_types_cache import CellTypesCache\n",
    "import pprint\n",
    "\n",
    "import time\n",
    "starttime = time.time()\n",
    "\n",
    "def simpleaxis(ax):\n",
    "    #Hide the right and top spines\n",
    "    ax.spines['top'].set_visible(False)\n",
    "    ax.spines['right'].set_visible(False)\n",
    "    # Only show ticks on the left and bottom spines\n",
    "    ax.get_xaxis().tick_bottom()\n",
    "    ax.get_yaxis().tick_left()\n",
    "    \n",
    "def clean_axis(ax):\n",
    "    #Hide the right and top spines\n",
    "    ax.spines['top'].set_visible(False)\n",
    "    ax.spines['right'].set_visible(False)\n",
    "    # Only show ticks on the left and bottom spines\n",
    "    ax.get_xaxis().tick_bottom()\n",
    "    ax.get_yaxis().tick_left()       \n",
    "    ax.set_yticks([])\n",
    "    ax.set_xticks([])\n",
    "    ax.spines['bottom'].set_visible(False)\n",
    "    ax.spines['left'].set_visible(False)\n",
    "\n",
    "def get_loc_electrodes(filepath,filename):\n",
    "\t#\"\"\"\n",
    "\t#Read the location of electrode\n",
    "\t#\"\"\"\n",
    "\twith open(filepath+filename) as csvDataFile:\n",
    "\t    csvReader = csv.reader(csvDataFile, delimiter=' ')\n",
    "\t    headers=csvReader.next()\n",
    "\t    #for row in csvReader:\n",
    "\t    #    print(row)\n",
    "\t    \n",
    "\t    column = {}\n",
    "\t    for h in headers:\n",
    "\t\tcolumn[h] = []\n",
    "\t\t\n",
    "\t    for row in csvReader:\n",
    "\t\tfor h, v in zip(headers, row):\n",
    "\t\t    column[h].append(float(v))\n",
    "\t\t    \n",
    "\tz=column['z_pos']   \n",
    "\tx=column['x_pos']\n",
    "\ty=column['y_pos']\n",
    "        return (x,y,z)\n",
    "\n",
    "\n",
    "def read_soma_loc(filename):\n",
    "\thv1 = h5py.File(filename,'r')\n",
    "\tdatasetNames=[n for n in hv1.keys()]\n",
    "\tfor n in datasetNames:\n",
    "\t    print(n)\n",
    "\tpositions=hv1['nodes/v1/0/positions'].value\n",
    "\tx_soma = positions[0][0]\n",
    "\ty_soma = positions[0][1]\n",
    "\tz_soma = positions[0][2]\n",
    "\tnode_id = hv1['nodes/v1/node_id'][0]\n",
    "\n",
    "    \treturn (x_soma,y_soma,z_soma)\n",
    "\n",
    "    \n",
    "\n",
    "def read_rotation_info(filename):\n",
    "    with open(filename) as csvDataFile:\n",
    "\tcsvReader = csv.reader(csvDataFile, delimiter=' ')\n",
    "\theaders=csvReader.next()\n",
    "\n",
    "\tcolumn = {}\n",
    "\tfor h in headers:\n",
    "\t    column[h] = []\n",
    "\n",
    "\tfor row in csvReader:\n",
    "\t    for h, v in zip(headers, row):\n",
    "\t\ttry:\n",
    "\t\t    column[h].append(float(v))\n",
    "\t\texcept ValueError:\n",
    "\t\t     column[h].append(v)\n",
    "\t#cell_id1 = map(int, column['node_type_id'])\n",
    "\ttheta_y = column['rotation_angle_yaxis'][0]\n",
    "\ttheta_z = column['rotation_angle_zaxis'][0]\n",
    "\ttheta_x = column['rotation_angle_xaxis'][0]\n",
    "        theta = [theta_x,theta_y,theta_z] \n",
    "    return theta\n",
    "\n",
    "\n",
    "def plot_rec_data(samplingrate,lgn_spikes,Vi,spikes,Ve,fig_size=(3.5,5.5)):\n",
    "    \n",
    "    T=Vi.shape[0] #The total data points in time serires\n",
    "    dt = 1000.0/samplingrate # from m to ms\n",
    "    t=pl.frange(0,T*dt-dt,dt)\n",
    "\n",
    "    # plot with various axes scales\n",
    "    fig, ax = plt.subplots(figsize=fig_size)\n",
    "\n",
    "    # Plot lgn input\n",
    "    ax=plt.subplot(411)\n",
    "    plt.eventplot(lgn_spikes,color='k') \n",
    "    plt.ylabel('LGN input')\n",
    "    plt.xlim([0,T*dt])    \n",
    "    ax.set(xticks=np.arange(0,T*dt+1,(T*dt-0)/2))\n",
    "    locs, labels = plt.yticks()\n",
    "    ax.set(yticks=np.arange(0,locs[-1]+1,(locs[-1]-0)/2))\n",
    "    simpleaxis(ax)\n",
    "    \n",
    "    # Plot membrane potential\n",
    "    ax=plt.subplot(412)\n",
    "    plt.plot(t,Vi,color='k')\n",
    "    plt.ylabel('Vi (mV)')\n",
    "    locs, labels = plt.yticks()\n",
    "    ax.set(yticks=np.arange(locs[0],locs[-1]+1,(locs[-1]-locs[0])/2))\n",
    "    simpleaxis(ax)\n",
    "    plt.xlim([0,T*dt])   \n",
    "    ax.set(xticks=np.arange(0,T*dt+1,(T*dt-0)/2))\n",
    "    \n",
    "    # plot spikes\n",
    "    ax=plt.subplot(413)\n",
    "    firingrate = len(spikes)/(round(T*dt))*1000\n",
    "    ax.eventplot(spikes,color='k')\n",
    "    plt.ylabel('spikes')\n",
    "    plt.yticks([])\n",
    "    plt.title('Firing rate='+str(np.around(firingrate,decimals=2))+'Hz')\n",
    "    simpleaxis(ax)    \n",
    "    plt.xlim([0,T*dt])\n",
    "    ax.set(xticks=np.arange(0,T*dt+1,(T*dt-0)/2))\n",
    "    \n",
    "    #plot ecp\n",
    "    ax=plt.subplot(414)\n",
    "    somaindx = np.unravel_index(Ve.argmin(),Ve.shape)  #The recording sites that have the largest negative amplitude\n",
    "    plt.plot(t,Ve[somaindx[0],:],color='k')\n",
    "    plt.ylabel('Ve (${\\mu}$V)')\n",
    "    simpleaxis(ax)\n",
    "\n",
    "    plt.xlabel('Time (ms)')\n",
    "    locs, labels = plt.yticks()\n",
    "    ax.set(yticks=np.arange(locs[0],locs[-1]+1,(locs[-1]-locs[0])/2))    \n",
    "    plt.xlim([0,T*dt])\n",
    "    ax.set(xticks=np.arange(0,T*dt+1,(T*dt-0)/2))\n",
    "    \n",
    "\n",
    "    plt.subplots_adjust(top=0.92, bottom=0.08, left=0.10, right=0.95, hspace=0.5,wspace=0.3)\n",
    "\n",
    "    return fig\n",
    "\n",
    "def butter_highpass_filter(data, cutoff, fs, order=5):\n",
    "    b, a = butter_highpass(cutoff, fs, order=order)\n",
    "    y = signal.filtfilt(b, a, data)\n",
    "    return y\n",
    "\n",
    "def butter_highpass(cutoff, fs, order=5):\n",
    "    nyq = 0.5 * fs\n",
    "    normal_cutoff = cutoff / nyq\n",
    "    b, a = signal.butter(order, normal_cutoff, btype='high', analog=False)\n",
    "    return b, a\n",
    "\n",
    "# function to calculate spike triggered average and covariance for one channels\n",
    "def cal_STA_STC_onech(data,spikes,win,samplingrate): # data: one_dimensional data\n",
    "    lwin = win[0]\n",
    "    hwin = win[1]\n",
    "    dt = 1000.0/samplingrate # from s to ms\n",
    "    t_STA = pl.frange(lwin,hwin-dt,dt)\n",
    "    \n",
    "    for i in range(0,len(spikes)):\n",
    "        indx = range(int(spikes[i,]/dt)+int(lwin/dt),int(spikes[i,]/dt)+int(hwin/dt))   #-1ms, +3ms\n",
    "        if i==0:\n",
    "            arr=np.array(data[indx])\n",
    "        else:\n",
    "            if len(data)>int(spikes[i,]/dt)+int(hwin/dt):\n",
    "                arr = np.vstack((arr, np.array(data[indx])))\n",
    "    return t_STA,np.mean(arr,axis=0),np.std(arr,axis=0)\n",
    "\n",
    "# function to calculate spike triggered average and covariance for multiple channels\n",
    "def cal_STA_STC(data,spikes,win,samplingrate): # ecp_data: channels*times; output: channels*ecp_win_times\n",
    "    \n",
    "    num_channels = data.shape[0]  # number of channels\n",
    "    \n",
    "    dt = 1000.0/samplingrate      # from s to ms\n",
    "    times=int((win[1]-win[0])/dt)\n",
    "    \n",
    "    #Calculate STA and STC for multiple channels\n",
    "    STA = np.array([[0.0]*times]*num_channels)     #spike triggered average\n",
    "    STC = np.array([[0.0]*times]*num_channels)     #spike triggered standard deviation \n",
    "\n",
    "    for i in range(num_channels):\n",
    "        t_STA,STA[i,:],STC[i,:]=cal_STA_STC_onech(data[i,:],spikes,win,samplingrate)\n",
    "    \n",
    "    return (t_STA,STA,STC)\n",
    "def find_nearest(array,value):\n",
    "    idx = (np.abs(array-value)).argmin()\n",
    "    return idx "
   ]
  },
  {
   "cell_type": "code",
   "execution_count": 2,
   "metadata": {},
   "outputs": [],
   "source": [
    "#\"\"\"\"\n",
    "#Setup file directory\n",
    "#\"\"\"\"\n",
    "filedir0 = '../examples/'\n",
    "cell_id = [571654895]\n",
    "filedir = filedir0+str(cell_id[0])+'_example/'"
   ]
  },
  {
   "cell_type": "code",
   "execution_count": 3,
   "metadata": {},
   "outputs": [
    {
     "name": "stdout",
     "output_type": "stream",
     "text": [
      "nodes\n"
     ]
    },
    {
     "name": "stderr",
     "output_type": "stream",
     "text": [
      "/home/yinaw/miniconda2/envs/py2/lib/python2.7/site-packages/h5py/_hl/dataset.py:313: H5pyDeprecationWarning: dataset.value has been deprecated. Use dataset[()] instead.\n",
      "  \"Use dataset[()] instead.\", H5pyDeprecationWarning)\n"
     ]
    }
   ],
   "source": [
    "#\"\"\"\n",
    "#Read the location of electrode\n",
    "#\"\"\"\n",
    "ele_filepath = filedir0+'biophys_components/recXelectrodes/'\n",
    "ele_filename = 'neuropixel_electrode_1um.csv'\n",
    "[x,y,z]= get_loc_electrodes(ele_filepath,ele_filename)\n",
    "\n",
    "#Read the location of neurons\n",
    "#\"\"\"\n",
    "[x_soma,y_soma,z_soma]=read_soma_loc(filedir+'network/v1_nodes.h5')\n",
    "\n",
    "# Read the rotation information of neurons\n",
    "theta = read_rotation_info(filedir+'network/v1_node_types.csv')\n",
    "theta[2]=-theta[2]"
   ]
  },
  {
   "cell_type": "code",
   "execution_count": 4,
   "metadata": {},
   "outputs": [
    {
     "name": "stdout",
     "output_type": "stream",
     "text": [
      "processing\n",
      "edges\n",
      "[ 0  1  2  3  4  5  6  7  8  9 10 11 12 13 14 15 16 17 18 19 20 21 22 23\n",
      " 24 25 26 27 28 29 30 31 32 33 34 35 36 37 38 39 40 41 42 43 44]\n"
     ]
    }
   ],
   "source": [
    "#\"\"\"\n",
    "#Read the lgn input files\n",
    "#\"\"\"\n",
    "lgn_filepath = filedir0+'NWB_files/'\n",
    "lgn_filename = 'lgn_spikes_30s_rate003.nwb'\n",
    "lgn_hf = h5py.File(lgn_filepath+lgn_filename,'r')\n",
    "# Get and print list of datasets within the H5 file\n",
    "datasetNames=[n for n in lgn_hf.keys()]\n",
    "for n in datasetNames:\n",
    "    print(n)\n",
    "spikes_0=lgn_hf['/processing/trial_0/spike_train/0/data'].value  # spikes of target cell id =0\n",
    "#print spikes_0\n",
    "\n",
    "# LGN to V1 connections\n",
    "hf = h5py.File(filedir+'network/lgn_v1_edges.h5','r')\n",
    "# Get and print list of datasets within the H5 file\n",
    "datasetNames=[n for n in hf.keys()]\n",
    "for n in datasetNames:\n",
    "    print(n)\n",
    "\n",
    "source_node_id=np.array(hf['edges/lgn_to_v1/source_node_id'].value)\n",
    "target_node_id=np.array(hf['edges/lgn_to_v1/target_node_id'].value)\n",
    "\n",
    "target_idx = np.where(target_node_id==0)\n",
    "src_cells= source_node_id[target_idx]\n",
    "\n",
    "print src_cells\n",
    "\n",
    "lgn_spikes=[]\n",
    "for i in range(0,len(src_cells)):\n",
    "    lgn_spikes.append(lgn_hf['/processing/trial_0/spike_train/'+str(src_cells[i])+'/data'])"
   ]
  },
  {
   "cell_type": "code",
   "execution_count": 7,
   "metadata": {},
   "outputs": [
    {
     "name": "stdout",
     "output_type": "stream",
     "text": [
      "('Data dimensions of Vi: ', (300003, 1))\n",
      "('Data dimensions of spikes: ', (87,))\n",
      "('Data dimensions of Ve for all neurons: ', (15360, 300003))\n"
     ]
    },
    {
     "name": "stderr",
     "output_type": "stream",
     "text": [
      "/home/yinaw/miniconda2/envs/py2/lib/python2.7/site-packages/ipykernel_launcher.py:33: MatplotlibDeprecationWarning: numpy.arange\n"
     ]
    }
   ],
   "source": [
    "#\"\"\"\"\n",
    "#Setup file directory\n",
    "#\"\"\"\"\n",
    "datadir=filedir+'output/'\n",
    "\n",
    "#\"\"\"\n",
    "#Read Data from hdf file format\n",
    "#\"\"\"\n",
    "# Read H5 files\n",
    "f = h5py.File(datadir+'cell_vars.h5','r')\n",
    "fspikes = h5py.File(datadir+'spikes.h5','r')\n",
    "fecp= h5py.File(datadir+'ecp.h5','r')\n",
    "\n",
    "# Extract values from H5 files\n",
    "Vi=f['v/data']\n",
    "spikes=fspikes['spikes/timestamps']\n",
    "ecp_rec0=fecp['data']\n",
    "ecp_rec0=1000 * np.array(ecp_rec0)  # Change the unit from mV to uV\n",
    "Ve = np.transpose(ecp_rec0)   #ecp_data: channels*times\n",
    "\n",
    "# Print the attributes:\n",
    "print(\"Data dimensions of Vi: \", Vi.shape)\n",
    "print(\"Data dimensions of spikes: \", spikes.shape)\n",
    "print(\"Data dimensions of Ve for all neurons: \", Ve.shape)\n",
    "\n",
    "[num_channels,T]=Ve.shape\n",
    "eleColN=len(np.unique(x))          # the column number of electrodes, for Neuropixel electrode, it is 4\n",
    "eleRowN = num_channels/eleColN     # the row number of electrodes, for Neuropixel electrode, it is 240\n",
    "\n",
    "# sample rate\n",
    "fs=30000 #10000\n",
    "dt=1000.0/fs # msec\n",
    "t=pl.frange(0,T*dt-dt,dt) #msec\n",
    "ts=t/1000  #sec\n",
    "#print(t.shape)"
   ]
  },
  {
   "cell_type": "code",
   "execution_count": 9,
   "metadata": {},
   "outputs": [
    {
     "name": "stderr",
     "output_type": "stream",
     "text": [
      "/home/yinaw/miniconda2/envs/py2/lib/python2.7/site-packages/ipykernel_launcher.py:120: MatplotlibDeprecationWarning: numpy.arange\n"
     ]
    },
    {
     "data": {
      "image/png": "[encoded data removed]",
      "text/plain": [
       "<Figure size 288x432 with 4 Axes>"
      ]
     },
     "metadata": {
      "needs_background": "light"
     },
     "output_type": "display_data"
    }
   ],
   "source": [
    "#plot lgn_spikes, vi,spikes,ve at the recording sites closest to the soma\n",
    "fig = plot_rec_data(fs,lgn_spikes,Vi,spikes,Ve,(4,6))\n",
    "#fig.savefig(filedir+'output/'+str(cell_id[0])+'data.png',bbox_inches = 'tight')\n",
    "#fig.savefig(filedir+'output/'+str(cell_id[0])+'data.eps',bbox_inches = 'tight')"
   ]
  },
  {
   "cell_type": "code",
   "execution_count": 15,
   "metadata": {},
   "outputs": [
    {
     "name": "stdout",
     "output_type": "stream",
     "text": [
      "(15360, 300003)\n",
      "(300003, 1)\n"
     ]
    }
   ],
   "source": [
    "print Ve.shape\n",
    "print Vi.shape\n",
    "\n",
    "Ve_highpass = np.zeros(Ve.shape)\n",
    "for i in range(num_channels):\n",
    "    Ve_highpass[i,:] = butter_highpass_filter(Ve[i,:],300,fs) "
   ]
  },
  {
   "cell_type": "code",
   "execution_count": null,
   "metadata": {},
   "outputs": [],
   "source": [
    "# For each channel, calculate EAP\n",
    "win=[-1,3] #-1 msec to 3 msec\n",
    "\n",
    "[t_STA,Ve_STA,Ve_STC] = cal_STA_STC(Ve_highpass,spikes,win,fs) \n",
    "[t_STA,Vi_STA,Vi_STC] = cal_STA_STC(np.transpose(Vi),spikes,win,fs)\n"
   ]
  },
  {
   "cell_type": "code",
   "execution_count": 19,
   "metadata": {},
   "outputs": [
    {
     "name": "stdout",
     "output_type": "stream",
     "text": [
      "19 115\n"
     ]
    }
   ],
   "source": [
    "# The electrode that closest to the soma\n",
    "ic = find_nearest(np.unique(x),x_soma)   # find the electrode that closest to the soma\n",
    "ir = find_nearest(np.unique(y),y_soma)   # find the electrode that closest to the soma\n",
    "print ic,ir"
   ]
  },
  {
   "cell_type": "code",
   "execution_count": 23,
   "metadata": {},
   "outputs": [],
   "source": [
    "import numpy as np\n",
    "import scipy.io\n",
    "N_spikes = len(spikes)\n",
    "scipy.io.savemat(filedir+str(cell_id[0])+'EAP.mat', mdict={'t_STA':t_STA, 'EAP_mean':Ve_STA, 'EAP_st':Ve_STC, 'row':ir, 'column':ic,'eleColN':eleColN,'M':num_channels, 'N_spikes':N_spikes})"
   ]
  },
  {
   "cell_type": "code",
   "execution_count": null,
   "metadata": {},
   "outputs": [],
   "source": [
    "# close the h5 file\n",
    "#f.close()\n",
    "#lgn_hf.close()\n",
    "#hf.close()\n",
    "#hv1.close()\n",
    "endtime = time.time()\n",
    "print('The time of data processing is '+str((endtime - starttime)/60)+' mins')"
   ]
  },
  {
   "cell_type": "code",
   "execution_count": null,
   "metadata": {},
   "outputs": [],
   "source": []
  },
  {
   "cell_type": "code",
   "execution_count": null,
   "metadata": {},
   "outputs": [],
   "source": []
  },
  {
   "cell_type": "code",
   "execution_count": null,
   "metadata": {},
   "outputs": [],
   "source": []
  },
  {
   "cell_type": "code",
   "execution_count": null,
   "metadata": {},
   "outputs": [],
   "source": []
  },
  {
   "cell_type": "code",
   "execution_count": null,
   "metadata": {},
   "outputs": [],
   "source": []
  },
  {
   "cell_type": "code",
   "execution_count": null,
   "metadata": {},
   "outputs": [],
   "source": []
  }
 ],
 "metadata": {
  "kernelspec": {
   "display_name": "Python 2",
   "language": "python",
   "name": "python2"
  },
  "language_info": {
   "codemirror_mode": {
    "name": "ipython",
    "version": 2
   },
   "file_extension": ".py",
   "mimetype": "text/x-python",
   "name": "python",
   "nbconvert_exporter": "python",
   "pygments_lexer": "ipython2",
   "version": "2.7.16"
  }
 },
 "nbformat": 4,
 "nbformat_minor": 2
}
