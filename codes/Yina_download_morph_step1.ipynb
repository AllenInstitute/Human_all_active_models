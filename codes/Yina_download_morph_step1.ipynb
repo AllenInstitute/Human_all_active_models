{
 "cells": [
  {
   "cell_type": "code",
   "execution_count": 10,
   "metadata": {},
   "outputs": [],
   "source": [
    "#\"\"\"\"\"\"\"\"\"\"\"\"\"\"\"\"\"\"\"\"\"\"\"\"\"\"\"\"\"\"\"\"\"\"\"\"\"\"\"\"\"\"\"\"\"\"\"\"\"\"\"\"\"\"\"\"\"\"\"\"\"\"\"\"\n",
    "# Download morphology from allensdk\n",
    "# @Yina Wei,March 02,2020\n",
    "#\"\"\"\"\"\"\"\"\"\"\"\"\"\"\"\"\"\"\"\"\"\"\"\"\"\"\"\"\"\"\"\"\"\"\"\"\"\"\"\"\"\"\"\"\"\"\"\"\"\"\"\"\"\"\"\"\"\"\"\"\"\"\"\"\n",
    "import pandas as pd\n",
    "import numpy as np\n",
    "import matplotlib.pylab as plt\n",
    "import csv\n",
    "\n",
    "from allensdk.api.queries.biophysical_api import BiophysicalApi\n",
    "from allensdk.api.queries.cell_types_api import CellTypesApi\n",
    "from allensdk.core.cell_types_cache import CellTypesCache\n",
    "import os.path\n",
    "\n",
    "def download_morph_files(specimen_ids, folder_path, add_cre_info=False):\n",
    "    \"\"\"Download morphology for a list of cells in Cell Types database\n",
    "    \n",
    "    Arguments:\n",
    "        specimen_ids {iterable} -- IDs as list of int or string\n",
    "        folder_path {str} -- folder to save to\n",
    "    \"\"\"\n",
    "    ct = CellTypesApi()\n",
    "    for specimen_id in specimen_ids:\n",
    "        if add_cre_info:\n",
    "            info = ct.get_cell(specimen_id)\n",
    "            filename = info['line_name'].split('-')[0]+'_'+'{}.swc'.format(specimen_id)\n",
    "        else:\n",
    "            filename = '{}.swc'.format(specimen_id)\n",
    "        save_path = os.path.join(folder_path, filename)\n",
    "        if not os.path.exists(save_path):\n",
    "            ct.save_reconstruction(specimen_id, save_path)    "
   ]
  },
  {
   "cell_type": "code",
   "execution_count": 11,
   "metadata": {
    "scrolled": true
   },
   "outputs": [
    {
     "name": "stderr",
     "output_type": "stream",
     "text": [
      "2020-03-02 12:38:04,293 allensdk.api.api.retrieve_file_over_http INFO     Downloading URL: http://api.brain-map.org/api/v2/well_known_file_download/667324828\n",
      "2020-03-02 12:38:04,440 allensdk.api.api.retrieve_file_over_http INFO     Downloading URL: http://api.brain-map.org/api/v2/well_known_file_download/538906873\n",
      "2020-03-02 12:38:04,505 allensdk.api.api.retrieve_file_over_http INFO     Downloading URL: http://api.brain-map.org/api/v2/well_known_file_download/561096008\n",
      "2020-03-02 12:38:04,585 allensdk.api.api.retrieve_file_over_http INFO     Downloading URL: http://api.brain-map.org/api/v2/well_known_file_download/668702914\n",
      "2020-03-02 12:38:04,688 allensdk.api.api.retrieve_file_over_http INFO     Downloading URL: http://api.brain-map.org/api/v2/well_known_file_download/582653940\n",
      "2020-03-02 12:38:04,791 allensdk.api.api.retrieve_file_over_http INFO     Downloading URL: http://api.brain-map.org/api/v2/well_known_file_download/569309789\n",
      "2020-03-02 12:38:04,886 allensdk.api.api.retrieve_file_over_http INFO     Downloading URL: http://api.brain-map.org/api/v2/well_known_file_download/668616963\n",
      "2020-03-02 12:38:05,049 allensdk.api.api.retrieve_file_over_http INFO     Downloading URL: http://api.brain-map.org/api/v2/well_known_file_download/603514412\n",
      "2020-03-02 12:38:05,155 allensdk.api.api.retrieve_file_over_http INFO     Downloading URL: http://api.brain-map.org/api/v2/well_known_file_download/603515573\n",
      "2020-03-02 12:38:05,244 allensdk.api.api.retrieve_file_over_http INFO     Downloading URL: http://api.brain-map.org/api/v2/well_known_file_download/585893372\n",
      "2020-03-02 12:38:05,381 allensdk.api.api.retrieve_file_over_http INFO     Downloading URL: http://api.brain-map.org/api/v2/well_known_file_download/571972081\n",
      "2020-03-02 12:38:05,510 allensdk.api.api.retrieve_file_over_http INFO     Downloading URL: http://api.brain-map.org/api/v2/well_known_file_download/656411102\n",
      "2020-03-02 12:38:05,579 allensdk.api.api.retrieve_file_over_http INFO     Downloading URL: http://api.brain-map.org/api/v2/well_known_file_download/694168886\n",
      "2020-03-02 12:38:05,730 allensdk.api.api.retrieve_file_over_http INFO     Downloading URL: http://api.brain-map.org/api/v2/well_known_file_download/614429611\n"
     ]
    }
   ],
   "source": [
    "#human all active models\n",
    "cell_list = [508378649,508417989,528038990,529878215,531526539,541563728,548457754,569844159,571500474,571654895,531520637,601927090,614651270,526734407]\n",
    "\n",
    "morph_dir='../as/'\n",
    "\n",
    "download_morph_files(cell_list, morph_dir)"
   ]
  },
  {
   "cell_type": "code",
   "execution_count": null,
   "metadata": {},
   "outputs": [],
   "source": []
  },
  {
   "cell_type": "code",
   "execution_count": null,
   "metadata": {},
   "outputs": [],
   "source": []
  },
  {
   "cell_type": "code",
   "execution_count": null,
   "metadata": {},
   "outputs": [],
   "source": []
  },
  {
   "cell_type": "code",
   "execution_count": null,
   "metadata": {},
   "outputs": [],
   "source": []
  },
  {
   "cell_type": "code",
   "execution_count": null,
   "metadata": {},
   "outputs": [],
   "source": []
  },
  {
   "cell_type": "code",
   "execution_count": null,
   "metadata": {},
   "outputs": [],
   "source": [
    "\n",
    "\n",
    "\n",
    "\n"
   ]
  }
 ],
 "metadata": {
  "kernelspec": {
   "display_name": "Python 2",
   "language": "python",
   "name": "python2"
  },
  "language_info": {
   "codemirror_mode": {
    "name": "ipython",
    "version": 2
   },
   "file_extension": ".py",
   "mimetype": "text/x-python",
   "name": "python",
   "nbconvert_exporter": "python",
   "pygments_lexer": "ipython2",
   "version": "2.7.16"
  }
 },
 "nbformat": 4,
 "nbformat_minor": 2
}
